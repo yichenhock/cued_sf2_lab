{
 "cells": [
  {
   "cell_type": "code",
   "execution_count": null,
   "id": "f223349d",
   "metadata": {},
   "outputs": [],
   "source": [
    "%matplotlib inline\n",
    "import warnings\n",
    "import inspect\n",
    "import matplotlib.pyplot as plt\n",
    "import IPython.display\n",
    "import numpy as np\n",
    "from cued_sf2_lab.familiarisation import load_mat_img, plot_image\n",
    "from cued_sf2_lab.laplacian_pyramid import quantise\n",
    "from cued_sf2_lab.schemes.LBT_chen import LBT\n",
    "from cued_sf2_lab.schemes.DWT_chen import DWT"
   ]
  },
  {
   "cell_type": "code",
   "execution_count": null,
   "id": "d9a87707",
   "metadata": {},
   "outputs": [],
   "source": [
    "lighthouse, _ = load_mat_img(img='lighthouse.mat', img_info='X')\n",
    "bridge, _ = load_mat_img(img='bridge.mat', img_info='X')\n",
    "flamingo, _ = load_mat_img(img='flamingo.mat', img_info='X')\n",
    "house, _ = load_mat_img(img='house.mat', img_info='M')\n",
    "face, _ = load_mat_img(img='face.mat', img_info='M')"
   ]
  },
  {
   "cell_type": "code",
   "execution_count": null,
   "id": "83f9fdde",
   "metadata": {},
   "outputs": [],
   "source": [
    "from skimage.metrics import structural_similarity\n",
    "import cv2\n",
    "import numpy as np\n",
    "\n",
    "image1 = imread...\n",
    "image2 = imread...\n",
    "\n",
    "# Compute SSIM between two images\n",
    "(score, diff) = structural_similarity(before_gray, after_gray, full=True)\n",
    "print(\"Image similarity\", score)"
   ]
  }
 ],
 "metadata": {
  "kernelspec": {
   "display_name": "Python 3",
   "language": "python",
   "name": "python3"
  },
  "language_info": {
   "codemirror_mode": {
    "name": "ipython",
    "version": 3
   },
   "file_extension": ".py",
   "mimetype": "text/x-python",
   "name": "python",
   "nbconvert_exporter": "python",
   "pygments_lexer": "ipython3",
   "version": "3.8.5"
  }
 },
 "nbformat": 4,
 "nbformat_minor": 5
}
